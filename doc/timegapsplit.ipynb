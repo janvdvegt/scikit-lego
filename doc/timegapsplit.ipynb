{
 "cells": [
  {
   "cell_type": "code",
   "execution_count": 1,
   "metadata": {
    "ExecuteTime": {
     "end_time": "2019-09-20T20:33:21.057390Z",
     "start_time": "2019-09-20T20:33:15.598910Z"
    }
   },
   "outputs": [],
   "source": [
    "%load_ext autoreload\n",
    "%autoreload 2\n",
    "%matplotlib inline"
   ]
  },
  {
   "cell_type": "markdown",
   "metadata": {},
   "source": [
    "# Cross Validation\n",
    "\n",
    "## TimeGapSplit\n",
    "\n",
    "We allow for a timeseries split that contains a gap.\n",
    "\n",
    "You won't always need it, but sometimes you consider these two situations;\n",
    "\n",
    "- If you have multiple samples per timestamp: you want to make sure that a timestamp doesn’t appear at the same time in training and validation folds.\n",
    "- If your target is looking $x$ days ahead in the future. In this case you cannot construct the target of the last x days of your available data. It means that when you put your model in production, the first day that you are going to score is always x days after your last training sample, therefore you should select the best model according to that setup. In other words, if you keep that gap in the validation, your metric might be overestimated because those first x days might be easier to predict since they are closer to the training set. If you want to be strict in terms of robustness you might want to replicate in the CV exactly this real-world behaviour, and thus you want to introduce a gap of x days between your training and validation folds.\n",
    "\n",
    "TimeGapSplit provides 3 parameters to really reproduce your production implementation in your cross-validation schema. We will demonstrate this in a code example below. \n",
    "\n",
    "#### Examples\n",
    "\n",
    "Let's make some random data to start with, and next define a plotting function."
   ]
  },
  {
   "cell_type": "code",
   "execution_count": 2,
   "metadata": {
    "ExecuteTime": {
     "end_time": "2019-09-20T20:33:35.888431Z",
     "start_time": "2019-09-20T20:33:21.065603Z"
    }
   },
   "outputs": [],
   "source": [
    "import pandas as pd\n",
    "import numpy as np\n",
    "import matplotlib.pyplot as plt\n",
    "from datetime import timedelta\n",
    "\n",
    "from sklego.model_selection import TimeGapSplit"
   ]
  },
  {
   "cell_type": "code",
   "execution_count": 3,
   "metadata": {
    "ExecuteTime": {
     "end_time": "2019-09-20T20:33:36.252123Z",
     "start_time": "2019-09-20T20:33:35.902091Z"
    }
   },
   "outputs": [
    {
     "name": "stdout",
     "output_type": "stream",
     "text": [
      "(30, 5)\n"
     ]
    }
   ],
   "source": [
    "df = (pd.DataFrame(np.random.randint(0, 30, size=(30, 4)), columns=list('ABCy'))\n",
    "      .assign(date=pd.date_range(start='1/1/2018', end='1/30/2018')[::-1]))\n",
    "print(df.shape)\n",
    "\n",
    "# For performance testing\n",
    "if False:\n",
    "    df = pd.concat([df]*50000, axis=0)\n",
    "    df = df.reset_index(drop=True)\n",
    "    df.index = df.index + 22\n",
    "    print(df.shape)"
   ]
  },
  {
   "cell_type": "code",
   "execution_count": 4,
   "metadata": {
    "ExecuteTime": {
     "end_time": "2019-09-20T20:33:36.435511Z",
     "start_time": "2019-09-20T20:33:36.256691Z"
    }
   },
   "outputs": [
    {
     "data": {
      "text/html": [
       "<div>\n",
       "<style scoped>\n",
       "    .dataframe tbody tr th:only-of-type {\n",
       "        vertical-align: middle;\n",
       "    }\n",
       "\n",
       "    .dataframe tbody tr th {\n",
       "        vertical-align: top;\n",
       "    }\n",
       "\n",
       "    .dataframe thead th {\n",
       "        text-align: right;\n",
       "    }\n",
       "</style>\n",
       "<table border=\"1\" class=\"dataframe\">\n",
       "  <thead>\n",
       "    <tr style=\"text-align: right;\">\n",
       "      <th></th>\n",
       "      <th>A</th>\n",
       "      <th>B</th>\n",
       "      <th>C</th>\n",
       "      <th>y</th>\n",
       "      <th>date</th>\n",
       "    </tr>\n",
       "  </thead>\n",
       "  <tbody>\n",
       "    <tr>\n",
       "      <td>0</td>\n",
       "      <td>6</td>\n",
       "      <td>26</td>\n",
       "      <td>6</td>\n",
       "      <td>8</td>\n",
       "      <td>2018-01-30</td>\n",
       "    </tr>\n",
       "    <tr>\n",
       "      <td>1</td>\n",
       "      <td>8</td>\n",
       "      <td>26</td>\n",
       "      <td>24</td>\n",
       "      <td>2</td>\n",
       "      <td>2018-01-29</td>\n",
       "    </tr>\n",
       "    <tr>\n",
       "      <td>2</td>\n",
       "      <td>5</td>\n",
       "      <td>22</td>\n",
       "      <td>13</td>\n",
       "      <td>9</td>\n",
       "      <td>2018-01-28</td>\n",
       "    </tr>\n",
       "    <tr>\n",
       "      <td>3</td>\n",
       "      <td>21</td>\n",
       "      <td>29</td>\n",
       "      <td>14</td>\n",
       "      <td>24</td>\n",
       "      <td>2018-01-27</td>\n",
       "    </tr>\n",
       "    <tr>\n",
       "      <td>4</td>\n",
       "      <td>15</td>\n",
       "      <td>25</td>\n",
       "      <td>19</td>\n",
       "      <td>7</td>\n",
       "      <td>2018-01-26</td>\n",
       "    </tr>\n",
       "  </tbody>\n",
       "</table>\n",
       "</div>"
      ],
      "text/plain": [
       "    A   B   C   y       date\n",
       "0   6  26   6   8 2018-01-30\n",
       "1   8  26  24   2 2018-01-29\n",
       "2   5  22  13   9 2018-01-28\n",
       "3  21  29  14  24 2018-01-27\n",
       "4  15  25  19   7 2018-01-26"
      ]
     },
     "execution_count": 4,
     "metadata": {},
     "output_type": "execute_result"
    }
   ],
   "source": [
    "df.head()"
   ]
  },
  {
   "cell_type": "code",
   "execution_count": 5,
   "metadata": {},
   "outputs": [],
   "source": [
    "def plot_cv(cv, X):\n",
    "    \"\"\"\n",
    "    Plot all the folds on time axis\n",
    "    :param pandas.DataFrame X:\n",
    "    \"\"\"\n",
    "    X_index_df = cv.join_date_and_x(X)\n",
    "\n",
    "    plt.figure(figsize=(16, 4))\n",
    "    for i, split in enumerate(cv.split(X)):\n",
    "        x_idx, y_idx = split\n",
    "        x_dates = X_index_df.iloc[x_idx]['__date__'].unique()\n",
    "        y_dates = X_index_df.iloc[y_idx]['__date__'].unique()\n",
    "        plt.plot(x_dates, i*np.ones(x_dates.shape), c=\"steelblue\")\n",
    "        plt.plot(y_dates, i*np.ones(y_dates.shape), c=\"orange\")\n",
    "\n",
    "    plt.legend(('training', 'validation'), loc='upper left')\n",
    "    plt.ylabel('Fold id')\n",
    "    plt.axvline(x=X_index_df['__date__'].min(), color='gray', label='x')\n",
    "    plt.axvline(x=X_index_df['__date__'].max(), color='gray', label='d')"
   ]
  },
  {
   "cell_type": "markdown",
   "metadata": {},
   "source": [
    "**Example 1**"
   ]
  },
  {
   "cell_type": "code",
   "execution_count": 6,
   "metadata": {
    "ExecuteTime": {
     "end_time": "2019-09-20T20:33:36.532584Z",
     "start_time": "2019-09-20T20:33:36.441012Z"
    }
   },
   "outputs": [],
   "source": [
    "cv = TimeGapSplit(date_serie=df['date'],\n",
    "                  train_duration=timedelta(days=10),\n",
    "                  valid_duration=timedelta(days=2),\n",
    "                  gap_duration=timedelta(days=1))"
   ]
  },
  {
   "cell_type": "code",
   "execution_count": 7,
   "metadata": {},
   "outputs": [
    {
     "name": "stderr",
     "output_type": "stream",
     "text": [
      "/Users/scollot/accelerator/TimeSerieSplit/scikit-lego-new/venv/lib/python3.7/site-packages/pandas/plotting/_matplotlib/converter.py:103: FutureWarning: Using an implicitly registered datetime converter for a matplotlib plotting method. The converter was registered by pandas on import. Future versions of pandas will require you to explicitly register matplotlib converters.\n",
      "\n",
      "To register the converters:\n",
      "\t>>> from pandas.plotting import register_matplotlib_converters\n",
      "\t>>> register_matplotlib_converters()\n",
      "  warnings.warn(msg, FutureWarning)\n"
     ]
    },
    {
     "data": {
      "image/png": "[encoded data removed]",
      "text/plain": [
       "<Figure size 1152x288 with 1 Axes>"
      ]
     },
     "metadata": {
      "needs_background": "light"
     },
     "output_type": "display_data"
    }
   ],
   "source": [
    "plot_cv(cv, df)"
   ]
  },
  {
   "cell_type": "markdown",
   "metadata": {},
   "source": [
    "**Example 2**"
   ]
  },
  {
   "cell_type": "code",
   "execution_count": 8,
   "metadata": {
    "ExecuteTime": {
     "end_time": "2019-09-20T20:33:38.651965Z",
     "start_time": "2019-09-20T20:33:38.483371Z"
    }
   },
   "outputs": [],
   "source": [
    "cv = TimeGapSplit(date_serie=df['date'],\n",
    "                  train_duration=timedelta(days=10),\n",
    "                  valid_duration=timedelta(days=5),\n",
    "                  gap_duration=timedelta(days=1))"
   ]
  },
  {
   "cell_type": "code",
   "execution_count": 9,
   "metadata": {
    "ExecuteTime": {
     "end_time": "2019-09-20T20:33:40.240054Z",
     "start_time": "2019-09-20T20:33:38.657666Z"
    }
   },
   "outputs": [
    {
     "data": {
      "image/png": "[encoded data removed]",
      "text/plain": [
       "<Figure size 1152x288 with 1 Axes>"
      ]
     },
     "metadata": {
      "needs_background": "light"
     },
     "output_type": "display_data"
    }
   ],
   "source": [
    "plot_cv(cv, df)"
   ]
  },
  {
   "cell_type": "code",
   "execution_count": 10,
   "metadata": {
    "ExecuteTime": {
     "end_time": "2019-09-20T20:33:40.733122Z",
     "start_time": "2019-09-20T20:33:40.244626Z"
    }
   },
   "outputs": [
    {
     "data": {
      "text/html": [
       "<div>\n",
       "<style scoped>\n",
       "    .dataframe tbody tr th:only-of-type {\n",
       "        vertical-align: middle;\n",
       "    }\n",
       "\n",
       "    .dataframe tbody tr th {\n",
       "        vertical-align: top;\n",
       "    }\n",
       "\n",
       "    .dataframe thead th {\n",
       "        text-align: right;\n",
       "    }\n",
       "</style>\n",
       "<table border=\"1\" class=\"dataframe\">\n",
       "  <thead>\n",
       "    <tr style=\"text-align: right;\">\n",
       "      <th></th>\n",
       "      <th>Start date</th>\n",
       "      <th>End date</th>\n",
       "      <th>Period</th>\n",
       "      <th>Unique days</th>\n",
       "      <th>nbr samples</th>\n",
       "    </tr>\n",
       "  </thead>\n",
       "  <tbody>\n",
       "    <tr>\n",
       "      <td>(0, train)</td>\n",
       "      <td>2018-01-01</td>\n",
       "      <td>2018-01-09</td>\n",
       "      <td>8 days</td>\n",
       "      <td>9</td>\n",
       "      <td>9</td>\n",
       "    </tr>\n",
       "    <tr>\n",
       "      <td>(0, valid)</td>\n",
       "      <td>2018-01-11</td>\n",
       "      <td>2018-01-15</td>\n",
       "      <td>4 days</td>\n",
       "      <td>5</td>\n",
       "      <td>5</td>\n",
       "    </tr>\n",
       "    <tr>\n",
       "      <td>(1, train)</td>\n",
       "      <td>2018-01-06</td>\n",
       "      <td>2018-01-14</td>\n",
       "      <td>8 days</td>\n",
       "      <td>9</td>\n",
       "      <td>9</td>\n",
       "    </tr>\n",
       "    <tr>\n",
       "      <td>(1, valid)</td>\n",
       "      <td>2018-01-16</td>\n",
       "      <td>2018-01-20</td>\n",
       "      <td>4 days</td>\n",
       "      <td>5</td>\n",
       "      <td>5</td>\n",
       "    </tr>\n",
       "    <tr>\n",
       "      <td>(2, train)</td>\n",
       "      <td>2018-01-11</td>\n",
       "      <td>2018-01-19</td>\n",
       "      <td>8 days</td>\n",
       "      <td>9</td>\n",
       "      <td>9</td>\n",
       "    </tr>\n",
       "    <tr>\n",
       "      <td>(2, valid)</td>\n",
       "      <td>2018-01-21</td>\n",
       "      <td>2018-01-25</td>\n",
       "      <td>4 days</td>\n",
       "      <td>5</td>\n",
       "      <td>5</td>\n",
       "    </tr>\n",
       "  </tbody>\n",
       "</table>\n",
       "</div>"
      ],
      "text/plain": [
       "           Start date   End date Period  Unique days  nbr samples\n",
       "(0, train) 2018-01-01 2018-01-09 8 days            9            9\n",
       "(0, valid) 2018-01-11 2018-01-15 4 days            5            5\n",
       "(1, train) 2018-01-06 2018-01-14 8 days            9            9\n",
       "(1, valid) 2018-01-16 2018-01-20 4 days            5            5\n",
       "(2, train) 2018-01-11 2018-01-19 8 days            9            9\n",
       "(2, valid) 2018-01-21 2018-01-25 4 days            5            5"
      ]
     },
     "execution_count": 10,
     "metadata": {},
     "output_type": "execute_result"
    }
   ],
   "source": [
    "cv.summary(df)"
   ]
  }
 ],
 "metadata": {
  "kernelspec": {
   "display_name": "Python 3",
   "language": "python",
   "name": "python3"
  },
  "language_info": {
   "codemirror_mode": {
    "name": "ipython",
    "version": 3
   },
   "file_extension": ".py",
   "mimetype": "text/x-python",
   "name": "python",
   "nbconvert_exporter": "python",
   "pygments_lexer": "ipython3",
   "version": "3.7.3"
  }
 },
 "nbformat": 4,
 "nbformat_minor": 2
}
